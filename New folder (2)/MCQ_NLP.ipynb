{
 "cells": [
  {
   "cell_type": "markdown",
   "id": "b3716f98",
   "metadata": {},
   "source": [
    "<h1 style=\"text-align: center;\">MCQ Creation Using OpenAI,Langchain,Huggingface and Pinecone </h1>"
   ]
  },
  {
   "cell_type": "markdown",
   "id": "4af634de",
   "metadata": {},
   "source": [
    "## Table of Contents\n",
    "* #### Install Libraries\n",
    "* #### Output in markdown format\n",
    "* #### Entire function to generate MCQ\n",
    "* #### Calling the function by passing a question as its argument\n",
    "* #### Cleaning The output\n"
   ]
  },
  {
   "attachments": {
    "1_dDJRf8nsuCybpb0uh1iEWw.webp": {
     "image/webp": "[encoded data removed]"
    }
   },
   "cell_type": "markdown",
   "id": "a45e0b9c",
   "metadata": {},
   "source": [
    "# Flowchart to generate MCQ\n",
    "\n",
    "![1_dDJRf8nsuCybpb0uh1iEWw.webp](attachment:1_dDJRf8nsuCybpb0uh1iEWw.webp)"
   ]
  },
  {
   "cell_type": "markdown",
   "id": "99ab75fd",
   "metadata": {},
   "source": [
    "# Install Libraries"
   ]
  },
  {
   "cell_type": "code",
   "execution_count": 1,
   "id": "c3e48a77",
   "metadata": {},
   "outputs": [],
   "source": [
    "# !pip install openai\n",
    "# !pip install unstructured\n",
    "# !pip install tiktoken\n",
    "# !pip install pinecone-client\n",
    "# !pip install pypdf\n",
    "#!pip install langchain\n",
    "#!pip install sentence-transformers"
   ]
  },
  {
   "cell_type": "markdown",
   "id": "166ab27f",
   "metadata": {},
   "source": [
    "# Output in json format"
   ]
  },
  {
   "cell_type": "code",
   "execution_count": 2,
   "id": "6eee957a",
   "metadata": {},
   "outputs": [],
   "source": [
    "markdown_text=[]"
   ]
  },
  {
   "cell_type": "markdown",
   "id": "c3c22b2c",
   "metadata": {},
   "source": [
    "# Entire function to generate MCQ"
   ]
  },
  {
   "cell_type": "code",
   "execution_count": 3,
   "id": "d9274da2",
   "metadata": {
    "scrolled": true
   },
   "outputs": [],
   "source": [
    "def get_mca_questions(k): \n",
    "    \n",
    "    # Importing libraries and dependencies\n",
    "    import openai\n",
    "    import pinecone\n",
    "    from langchain.document_loaders import PyPDFDirectoryLoader\n",
    "    from langchain.text_splitter import RecursiveCharacterTextSplitter\n",
    "    from langchain.embeddings.openai import OpenAIEmbeddings\n",
    "    from langchain.vectorstores import Pinecone\n",
    "    from langchain.llms import OpenAI\n",
    "    from langchain.embeddings.sentence_transformer import SentenceTransformerEmbeddings\n",
    "    \n",
    "    # Import Dependencies\n",
    "    # The code sets environment variables for accessing OpenAI API \n",
    "    # and Hugging Face Hub API using respective API keys\n",
    "    import os\n",
    "    os.environ[\"OPENAI_API_KEY\"] = <your key>\n",
    "    os.environ[\"HUGGINGFACEHUB_API_TOKEN\"] = <your key>\n",
    "    \n",
    "    # Load Documents\n",
    "    # Loads PDF files available in a directory with pypdf\n",
    "    # Function to read documents\n",
    "    def load_docs(directory):\n",
    "      loader = PyPDFDirectoryLoader(directory)\n",
    "      documents = loader.load()\n",
    "      return documents\n",
    "\n",
    "    # Passing the directory to the 'load_docs' function\n",
    "    directory = 'nlp_docs/'\n",
    "    documents = load_docs(directory)\n",
    "    len(documents)\n",
    "    \n",
    "    # Transform Documents\n",
    "    # Split document Into Smaller Chunks\n",
    "    # This function will split the documents into chunks\n",
    "    def split_docs(documents, chunk_size=1000, chunk_overlap=20):\n",
    "      text_splitter = RecursiveCharacterTextSplitter(chunk_size=chunk_size, chunk_overlap=chunk_overlap)\n",
    "      docs = text_splitter.split_documents(documents)\n",
    "      return docs\n",
    "\n",
    "    docs = split_docs(documents)\n",
    "    # print(len(docs))\n",
    "    \n",
    "    # Generate Text Embeddings\n",
    "    # Hugging Face LLM for creating Embeddings for documents/Text\n",
    "    embeddings = SentenceTransformerEmbeddings(model_name=\"all-MiniLM-L6-v2\")\n",
    "    \n",
    "    # Let's test our Embeddings model for a sample text\n",
    "    query_result = embeddings.embed_query(\"Hello Buddy\")\n",
    "    # len(query_result)\n",
    "\n",
    "    # Vector store - PINECONE\n",
    "    # Pinecone allows for data to be uploaded into a vector database and true semantic \n",
    "    # search can be performed.\n",
    "    # Not only is conversational data highly unstructured, but it can also be complex. \n",
    "    # Vector search and vector databases allows for similarity searches.\n",
    "    # We will initialize Pinecone and create a Pinecone index by passing our documents,\n",
    "    # embeddings model and mentioning the specific INDEX which has to be used\n",
    "    # Vector databases are designed to handle the unique structure of vector embeddings, \n",
    "    # which are dense vectors of numbers that represent text. They are used in machine learning\n",
    "    # to capture the meaning of words and map their semantic meaning.\n",
    "    # These databases index vectors for easy search and retrieval by comparing values and \n",
    "    # finding those that are most similar to one another, making them ideal for natural language\n",
    "    # processing and AI-driven applications.\n",
    "\n",
    "    pinecone.init(\n",
    "        api_key=\"d2d535cb-4552-4a9c-8128-b927a0697c39\",\n",
    "        environment=\"gcp-starter\"\n",
    "    )\n",
    "\n",
    "    index_name = \"mcq-assess\"\n",
    "\n",
    "    index = Pinecone.from_documents(docs, embeddings, index_name=index_name)\n",
    "    \n",
    "    # Retrieve Answers\n",
    "    # This function will help us in fetching the top relevent documents from our \n",
    "    # vector store - Pinecone\n",
    "    def get_similiar_docs(query, k=2):\n",
    "        similar_docs = index.similarity_search(query, k=k)\n",
    "        return similar_docs\n",
    "    \n",
    "    # 'load_qa_chain' Loads a chain that you can use to do QA over a set of documents.\n",
    "    #  And we will be using Huggingface for the reasoning purpose\n",
    "    from langchain.chains.question_answering import load_qa_chain\n",
    "    from langchain import HuggingFaceHub\n",
    "    \n",
    "    # BigScience Large Open-science Open-access Multilingual Language Model (BLOOM) \n",
    "    # is a transformer-based large language model.\n",
    "    # It was created by over 1000 AI researchers to provide a free large language model \n",
    "    # for everyone who wants to try. Trained on around 366 billion tokens over March through July 2022,\n",
    "    # it is considered an alternative to OpenAI's GPT-3 with its 176 billion parameters.\n",
    "    llm=HuggingFaceHub(repo_id=\"bigscience/bloom\", model_kwargs={\"temperature\":1e-10})\n",
    "    \n",
    "    # Different Types Of Chain_Type:\n",
    "    # \"map_reduce\": It divides the texts into batches, processes each batch separately with \n",
    "    # the question, and combines the answers to provide the final answer.\n",
    "    # \"refine\": It divides the texts into batches and refines the answer by sequentially processing \n",
    "    # each batch with the previous answer.\n",
    "    # \"map-rerank\": It divides the texts into batches, evaluates the quality of each answer from LLM,\n",
    "    # and selects the highest-scoring answers from the batches to generate the final answer. These \n",
    "    # alternatives help handle token limitations and improve the effectiveness of the \n",
    "    # question-answering process.\n",
    "    chain = load_qa_chain(llm, chain_type=\"stuff\")\n",
    "    \n",
    "    #This function will help us get the answer to the question that we raise\n",
    "    def get_answer(query):\n",
    "      relevant_docs = get_similiar_docs(query)\n",
    "      print(relevant_docs)\n",
    "      response = chain.run(input_documents=relevant_docs, question=query)\n",
    "      return response\n",
    "\n",
    "    our_query = k\n",
    "    answer = get_answer(our_query)\n",
    "    # print(answer)\n",
    "\n",
    "    \n",
    "\n",
    "    from langchain.chat_models import ChatOpenAI\n",
    "    from langchain.schema import HumanMessage\n",
    "    from langchain.prompts import PromptTemplate, ChatPromptTemplate, HumanMessagePromptTemplate\n",
    "    from langchain.output_parsers import StructuredOutputParser, ResponseSchema\n",
    "\n",
    "    response_schemas = [\n",
    "        ResponseSchema(name=\"question\", description=\"Question generated from provided input text data.\"),\n",
    "        ResponseSchema(name=\"choices\", description=\"Available options for a multiple-choice question in comma separated.\"),\n",
    "        ResponseSchema(name=\"Correct Options\", description=\"Two correct options for the asked question in ampersand separated.\")\n",
    "    ]\n",
    "\n",
    "    output_parser = StructuredOutputParser.from_response_schemas(response_schemas)\n",
    "\n",
    "    # This helps us fetch the instructions the langchain creates to fetch the response in \n",
    "    # desired format\n",
    "    format_instructions = output_parser.get_format_instructions()\n",
    "\n",
    "    # create ChatGPT object\n",
    "    chat_model = ChatOpenAI()\n",
    "    prompt = ChatPromptTemplate(\n",
    "        messages=[\n",
    "            HumanMessagePromptTemplate.from_template(\"\"\"When a text input is given by the user, please generate multiple choice questions \n",
    "            from it along with the correct options. \n",
    "            \\n{format_instructions}\\n{user_prompt}\"\"\")  \n",
    "        ],\n",
    "        input_variables=[\"user_prompt\"],\n",
    "        partial_variables={\"format_instructions\": format_instructions}\n",
    "    )\n",
    "\n",
    "    final_query = prompt.format_prompt(user_prompt = answer)\n",
    "#     final_query.to_messages()\n",
    "\n",
    "    final_query_output = chat_model(final_query.to_messages())\n",
    "    markdown_text.append(final_query_output.content)\n",
    "    print(final_query_output.content)\n",
    "    \n",
    "\n",
    "\n",
    "    "
   ]
  },
  {
   "cell_type": "markdown",
   "id": "6adf2ccd",
   "metadata": {},
   "source": [
    "# Calling the function by passing a question as its argument"
   ]
  },
  {
   "cell_type": "code",
   "execution_count": 4,
   "id": "9f5bce3a",
   "metadata": {},
   "outputs": [
    {
     "name": "stderr",
     "output_type": "stream",
     "text": [
      "C:\\Users\\DELL\\anaconda3\\lib\\site-packages\\pinecone\\index.py:4: TqdmExperimentalWarning: Using `tqdm.autonotebook.tqdm` in notebook mode. Use `tqdm.tqdm` instead to force console mode (e.g. in jupyter console)\n",
      "  from tqdm.autonotebook import tqdm\n",
      "C:\\Users\\DELL\\anaconda3\\lib\\site-packages\\huggingface_hub\\utils\\_deprecation.py:127: FutureWarning: '__init__' (from 'huggingface_hub.inference_api') is deprecated and will be removed from version '0.19.0'. `InferenceApi` client is deprecated in favor of the more feature-complete `InferenceClient`. Check out this guide to learn how to convert your script to use it: https://huggingface.co/docs/huggingface_hub/guides/inference#legacy-inferenceapi-client.\n",
      "  warnings.warn(warning_message, FutureWarning)\n"
     ]
    },
    {
     "name": "stdout",
     "output_type": "stream",
     "text": [
      "[Document(page_content='through trade, buying goods cheap and selling them at higher prices chap 1 -4.indd 10 4/22/2022 \\n2:49:26 PM Rationalised 2023 -24 FROM TRADE TO TERRITORY 11 goods. Trade was carried on with \\narms and trading posts were protected through fortifica tion. This effort to fortify settlements and \\ncarry on profitable trade also led to intense conflict with local rulers. The company therefore found it \\ndifficult to separate trade from politics. Let us see how this happened  \\nTipu Sultan – The “Tiger of Mysore” The Company resorted to direct military confrontation when it \\nsaw a threat to its political or economic interests. This can be illustrated with the case of the \\nsouthern Indian state of Mysore. Mysore had grown in  strength under the leadership of powerful \\nrulers like Haidar Ali (ruled from 1761 to 1782) and his famous son Tipu Sultan (ruled from 1782 to \\n1799). Mysore controlled the profitable trade of the Malabar coast where the Company purchased', metadata={'page': 0.0, 'source': 'nlp_docs\\\\chapter-2.pdf'}), Document(page_content='through trade, buying goods cheap and selling them at higher prices chap 1 -4.indd 10 4/22/2022 \\n2:49:26 PM Rationalised 2023 -24 FROM TRADE TO TERRITORY 11 goods. Trade was carried on with \\narms and trading posts were protected through fortifica tion. This effort to fortify settlements and \\ncarry on profitable trade also led to intense conflict with local rulers. The company therefore found it \\ndifficult to separate trade from politics. Let us see how this happened  \\nTipu Sultan – The “Tiger of Mysore” The Company resorted to direct military confrontation when it \\nsaw a threat to its political or economic interests. This can be illustrated with the case of the \\nsouthern Indian state of Mysore. Mysore had grown in  strength under the leadership of powerful \\nrulers like Haidar Ali (ruled from 1761 to 1782) and his famous son Tipu Sultan (ruled from 1782 to \\n1799). Mysore controlled the profitable trade of the Malabar coast where the Company purchased', metadata={'page': 0.0, 'source': 'nlp_docs\\\\chapter-2.pdf'})]\n",
      "known for his bravery and military tactics. He fought against the British East India Company in several battles.\n",
      "\n",
      "```json\n",
      "{\n",
      "\t\"question\": \"What was Tipu Sultan known for?\",\n",
      "\t\"choices\": \"a) His strength, b) His strategic abilities, c) His bravery, d) His military tactics\",\n",
      "\t\"Correct Options\": \"b&d\"\n",
      "}\n",
      "```\n"
     ]
    },
    {
     "name": "stderr",
     "output_type": "stream",
     "text": [
      "C:\\Users\\DELL\\anaconda3\\lib\\site-packages\\huggingface_hub\\utils\\_deprecation.py:127: FutureWarning: '__init__' (from 'huggingface_hub.inference_api') is deprecated and will be removed from version '0.19.0'. `InferenceApi` client is deprecated in favor of the more feature-complete `InferenceClient`. Check out this guide to learn how to convert your script to use it: https://huggingface.co/docs/huggingface_hub/guides/inference#legacy-inferenceapi-client.\n",
      "  warnings.warn(warning_message, FutureWarning)\n"
     ]
    },
    {
     "name": "stdout",
     "output_type": "stream",
     "text": [
      "[Document(page_content='Crops for Europe The British also realised that the countryside could not only yield revenue, it could \\nalso grow the crops that Europe required. By the late eighteenth century, the Company was trying its \\nbest to expand the cultivation of opium and indigo. In the century and a half that followed, the \\nBritish persuaded or forced cultivators in various parts of India to produce other crops: jute in \\nBengal, tea in Assam, sugarcane in the United Provinces (now Uttar Pradesh), wheat in Punjab, \\ncotton in Maharashtra and Punjab, rice in Madras. How was this done ? The British used a variety of \\nmethods to expand the cultivation of crops that they needed. Let us take a closer look at the story of \\none such crop, one such method of production . \\nHow was indigo cultivated? There were two main systems of indigo cultivation – nij and ryoti. Within \\nthe system of nij cultivation, the planter produced indigo in lands that he directly  controlled. He', metadata={'page': 0.0, 'source': 'nlp_docs\\\\chapter-3.pdf'}), Document(page_content='Crops for Europe The British also realised that the countryside could not only yield revenue, it could \\nalso grow the crops that Europe required. By the late eighteenth century, the Company was trying its \\nbest to expand the cultivation of opium and indigo. In the century and a half that followed, the \\nBritish persuaded or forced cultivators in various parts of India to produce other crops: jute in \\nBengal, tea in Assam, sugarcane in the United Provinces (now Uttar Pradesh), wheat in Punjab, \\ncotton in Maharashtra and Punjab, rice in Madras. How was this done ? The British used a variety of \\nmethods to expand the cultivation of crops that they needed. Let us take a closer look at the story of \\none such crop, one such method of production . \\nHow was indigo cultivated? There were two main systems of indigo cultivation – nij and ryoti. Within \\nthe system of nij cultivation, the planter produced indigo in lands that he directly  controlled. He', metadata={'page': 0.0, 'source': 'nlp_docs\\\\chapter-3.pdf'})]\n",
      "was in high demand for. This led to the establishment of plantations in various colonies, including the Americas and the Caribbean. The British relied heavily on the labor of enslaved Africans to work on these plantations, which were primarily focused on producing cash crops such as sugar, tobacco, and cotton.\n",
      "\n",
      "```json\n",
      "{\n",
      "\t\"question\": \"What led to the establishment of plantations in various colonies?\",\n",
      "\t\"choices\": \"a) High demand for crops, b) Revenue from the countryside, c) Availability of labor, d) All of the above\",\n",
      "\t\"Correct Options\": \"a&c\"\n",
      "}\n",
      "```\n"
     ]
    },
    {
     "name": "stderr",
     "output_type": "stream",
     "text": [
      "C:\\Users\\DELL\\anaconda3\\lib\\site-packages\\huggingface_hub\\utils\\_deprecation.py:127: FutureWarning: '__init__' (from 'huggingface_hub.inference_api') is deprecated and will be removed from version '0.19.0'. `InferenceApi` client is deprecated in favor of the more feature-complete `InferenceClient`. Check out this guide to learn how to convert your script to use it: https://huggingface.co/docs/huggingface_hub/guides/inference#legacy-inferenceapi-client.\n",
      "  warnings.warn(warning_message, FutureWarning)\n"
     ]
    },
    {
     "name": "stdout",
     "output_type": "stream",
     "text": [
      "[Document(page_content='Crops for Europe The British also realised that the countryside could not only yield revenue, it could \\nalso grow the crops that Europe required. By the late eighteenth century, the Company was trying its \\nbest to expand the cultivation of opium and indigo. In the century and a half that followed, the \\nBritish persuaded or forced cultivators in various parts of India to produce other crops: jute in \\nBengal, tea in Assam, sugarcane in the United Provinces (now Uttar Pradesh), wheat in Punjab, \\ncotton in Maharashtra and Punjab, rice in Madras. How was this done ? The British used a variety of \\nmethods to expand the cultivation of crops that they needed. Let us take a closer look at the story of \\none such crop, one such method of production . \\nHow was indigo cultivated? There were two main systems of indigo cultivation – nij and ryoti. Within \\nthe system of nij cultivation, the planter produced indigo in lands that he directly  controlled. He', metadata={'page': 0.0, 'source': 'nlp_docs\\\\chapter-3.pdf'}), Document(page_content='Crops for Europe The British also realised that the countryside could not only yield revenue, it could \\nalso grow the crops that Europe required. By the late eighteenth century, the Company was trying its \\nbest to expand the cultivation of opium and indigo. In the century and a half that followed, the \\nBritish persuaded or forced cultivators in various parts of India to produce other crops: jute in \\nBengal, tea in Assam, sugarcane in the United Provinces (now Uttar Pradesh), wheat in Punjab, \\ncotton in Maharashtra and Punjab, rice in Madras. How was this done ? The British used a variety of \\nmethods to expand the cultivation of crops that they needed. Let us take a closer look at the story of \\none such crop, one such method of production . \\nHow was indigo cultivated? There were two main systems of indigo cultivation – nij and ryoti. Within \\nthe system of nij cultivation, the planter produced indigo in lands that he directly  controlled. He', metadata={'page': 0.0, 'source': 'nlp_docs\\\\chapter-3.pdf'})]\n",
      "ryoti.\n",
      "\n",
      "```json\n",
      "{\n",
      "\t\"question\": \"The two main systems of indigo cultivation were nij and _____?\",\n",
      "\t\"choices\": \"a) ryoti, b) zamindari, c) mahalwari, d) ryotwari\",\n",
      "\t\"Correct Options\": \"a&d\"\n",
      "}\n",
      "```\n"
     ]
    },
    {
     "name": "stderr",
     "output_type": "stream",
     "text": [
      "C:\\Users\\DELL\\anaconda3\\lib\\site-packages\\huggingface_hub\\utils\\_deprecation.py:127: FutureWarning: '__init__' (from 'huggingface_hub.inference_api') is deprecated and will be removed from version '0.19.0'. `InferenceApi` client is deprecated in favor of the more feature-complete `InferenceClient`. Check out this guide to learn how to convert your script to use it: https://huggingface.co/docs/huggingface_hub/guides/inference#legacy-inferenceapi-client.\n",
      "  warnings.warn(warning_message, FutureWarning)\n"
     ]
    },
    {
     "name": "stdout",
     "output_type": "stream",
     "text": [
      "[Document(page_content='through trade, buying goods cheap and selling them at higher prices chap 1 -4.indd 10 4/22/2022 \\n2:49:26 PM Rationalised 2023 -24 FROM TRADE TO TERRITORY 11 goods. Trade was carried on with \\narms and trading posts were protected through fortifica tion. This effort to fortify settlements and \\ncarry on profitable trade also led to intense conflict with local rulers. The company therefore found it \\ndifficult to separate trade from politics. Let us see how this happened  \\nTipu Sultan – The “Tiger of Mysore” The Company resorted to direct military confrontation when it \\nsaw a threat to its political or economic interests. This can be illustrated with the case of the \\nsouthern Indian state of Mysore. Mysore had grown in  strength under the leadership of powerful \\nrulers like Haidar Ali (ruled from 1761 to 1782) and his famous son Tipu Sultan (ruled from 1782 to \\n1799). Mysore controlled the profitable trade of the Malabar coast where the Company purchased', metadata={'page': 0.0, 'source': 'nlp_docs\\\\chapter-2.pdf'}), Document(page_content='through trade, buying goods cheap and selling them at higher prices chap 1 -4.indd 10 4/22/2022 \\n2:49:26 PM Rationalised 2023 -24 FROM TRADE TO TERRITORY 11 goods. Trade was carried on with \\narms and trading posts were protected through fortifica tion. This effort to fortify settlements and \\ncarry on profitable trade also led to intense conflict with local rulers. The company therefore found it \\ndifficult to separate trade from politics. Let us see how this happened  \\nTipu Sultan – The “Tiger of Mysore” The Company resorted to direct military confrontation when it \\nsaw a threat to its political or economic interests. This can be illustrated with the case of the \\nsouthern Indian state of Mysore. Mysore had grown in  strength under the leadership of powerful \\nrulers like Haidar Ali (ruled from 1761 to 1782) and his famous son Tipu Sultan (ruled from 1782 to \\n1799). Mysore controlled the profitable trade of the Malabar coast where the Company purchased', metadata={'page': 0.0, 'source': 'nlp_docs\\\\chapter-2.pdf'})]\n",
      "```json\n",
      "{\n",
      "\t\"question\": \"Who were Haidar Ali and Tipu Sultan?\",\n",
      "\t\"choices\": \"a) Freedom fighters, b) Scientists, c) Politicians, d) Artists\",\n",
      "\t\"Correct Options\": \"a&c\"\n",
      "}\n",
      "```\n"
     ]
    }
   ],
   "source": [
    "lst=['What was one of the strategies employed by Tipu Sultan during his leadership?\"',\n",
    "    \"What did the British realise about the countryside in Europe?\",\n",
    "    \"what were the two main systems of indigo cultivation? \",\"which kings ruled Mysore?\"]\n",
    "for q in lst:\n",
    "    get_mca_questions(q)"
   ]
  },
  {
   "cell_type": "markdown",
   "id": "afcc28af",
   "metadata": {},
   "source": [
    "**After  getting the raw results it is stored in the variable called markdown_text as a list**"
   ]
  },
  {
   "cell_type": "markdown",
   "id": "d3d84d8d",
   "metadata": {},
   "source": [
    "# Cleaning The output"
   ]
  },
  {
   "cell_type": "code",
   "execution_count": 5,
   "id": "316de539",
   "metadata": {},
   "outputs": [
    {
     "data": {
      "text/plain": [
       "['known for his bravery and military tactics. He fought against the British East India Company in several battles.\\n\\n```json\\n{\\n\\t\"question\": \"What was Tipu Sultan known for?\",\\n\\t\"choices\": \"a) His strength, b) His strategic abilities, c) His bravery, d) His military tactics\",\\n\\t\"Correct Options\": \"b&d\"\\n}\\n```',\n",
       " 'was in high demand for. This led to the establishment of plantations in various colonies, including the Americas and the Caribbean. The British relied heavily on the labor of enslaved Africans to work on these plantations, which were primarily focused on producing cash crops such as sugar, tobacco, and cotton.\\n\\n```json\\n{\\n\\t\"question\": \"What led to the establishment of plantations in various colonies?\",\\n\\t\"choices\": \"a) High demand for crops, b) Revenue from the countryside, c) Availability of labor, d) All of the above\",\\n\\t\"Correct Options\": \"a&c\"\\n}\\n```',\n",
       " 'ryoti.\\n\\n```json\\n{\\n\\t\"question\": \"The two main systems of indigo cultivation were nij and _____?\",\\n\\t\"choices\": \"a) ryoti, b) zamindari, c) mahalwari, d) ryotwari\",\\n\\t\"Correct Options\": \"a&d\"\\n}\\n```',\n",
       " '```json\\n{\\n\\t\"question\": \"Who were Haidar Ali and Tipu Sultan?\",\\n\\t\"choices\": \"a) Freedom fighters, b) Scientists, c) Politicians, d) Artists\",\\n\\t\"Correct Options\": \"a&c\"\\n}\\n```']"
      ]
     },
     "execution_count": 5,
     "metadata": {},
     "output_type": "execute_result"
    }
   ],
   "source": [
    "# Let's view the contents of the markdown_text\n",
    "markdown_text"
   ]
  },
  {
   "cell_type": "code",
   "execution_count": 6,
   "id": "2559478b",
   "metadata": {},
   "outputs": [],
   "source": [
    "# Let's extract JSON data from Markdown text that we have\n",
    "json_string=[]\n",
    "import re\n",
    "import json\n",
    "for f in markdown_text:\n",
    "    json_ = re.search(r'{(.*?)}',f, re.DOTALL).group(1)\n",
    "    json_string.append(json_)"
   ]
  },
  {
   "cell_type": "code",
   "execution_count": 7,
   "id": "76e75453",
   "metadata": {},
   "outputs": [
    {
     "data": {
      "text/plain": [
       "['\\n\\t\"question\": \"What was Tipu Sultan known for?\",\\n\\t\"choices\": \"a) His strength, b) His strategic abilities, c) His bravery, d) His military tactics\",\\n\\t\"Correct Options\": \"b&d\"\\n',\n",
       " '\\n\\t\"question\": \"What led to the establishment of plantations in various colonies?\",\\n\\t\"choices\": \"a) High demand for crops, b) Revenue from the countryside, c) Availability of labor, d) All of the above\",\\n\\t\"Correct Options\": \"a&c\"\\n',\n",
       " '\\n\\t\"question\": \"The two main systems of indigo cultivation were nij and _____?\",\\n\\t\"choices\": \"a) ryoti, b) zamindari, c) mahalwari, d) ryotwari\",\\n\\t\"Correct Options\": \"a&d\"\\n',\n",
       " '\\n\\t\"question\": \"Who were Haidar Ali and Tipu Sultan?\",\\n\\t\"choices\": \"a) Freedom fighters, b) Scientists, c) Politicians, d) Artists\",\\n\\t\"Correct Options\": \"a&c\"\\n']"
      ]
     },
     "execution_count": 7,
     "metadata": {},
     "output_type": "execute_result"
    }
   ],
   "source": [
    "(json_string)"
   ]
  },
  {
   "cell_type": "markdown",
   "id": "e45b50b6",
   "metadata": {},
   "source": [
    "# Some more cleaning to get the best results"
   ]
  },
  {
   "cell_type": "code",
   "execution_count": 8,
   "id": "eab60a61",
   "metadata": {},
   "outputs": [],
   "source": [
    "ques=[]\n",
    "choice=[]\n",
    "answer=[]"
   ]
  },
  {
   "cell_type": "code",
   "execution_count": 9,
   "id": "10f646a5",
   "metadata": {},
   "outputs": [],
   "source": [
    "for z in range(len(json_string)):\n",
    "    u=[i for i in json_string[z].split(',')]\n",
    "    t=[]\n",
    "    t1=[]\n",
    "    for j in u:\n",
    "        for j1 in j.split(':'):\n",
    "            if j1=='\\n\\t\"question\"' or j1=='\\n    \"question\"':\n",
    "                t.append(f'Q{1+z}')\n",
    "                t.append(':')\n",
    "                #print(j.split())\n",
    "                e=j.split()\n",
    "                t.append(' '.join(e[1:])+'\\n')\n",
    "            if j1=='\\n\\t\"Correct Options\"':\n",
    "                t1.append('Correct Options')\n",
    "                t1.append(':')\n",
    "                #print(j.split())\n",
    "                e=j.split()\n",
    "                e1=[]\n",
    "                for n in e[-1]:\n",
    "                    e1.append(n)\n",
    "                t1.append(f\"'({e1[1].lower()})'\")\n",
    "                t1.append('&')\n",
    "                t1.append(f\"'({e1[-2].lower()})'\")\n",
    "    ques.append(t)\n",
    "    answer.append(t1)\n",
    "    # print(''.join(t))\n",
    "    # print(''.join(t1))\n",
    "\n",
    "    u1=[i for i in json_string[z].split()]\n",
    "    t21=[]\n",
    "    t2=[]\n",
    "    for v in u1:\n",
    "        if v=='\"a)' or v=='\"A)':\n",
    "            x=u1.index(v)\n",
    "            try:\n",
    "                x1=u1.index('b)')\n",
    "            except ValueError:\n",
    "                x1=u1.index('B)')\n",
    "            t2.append(' a.')\n",
    "            t2.append(' '.join((u1[x+1:x1])))\n",
    "            t21.append(' '.join(t2).replace(',','')+'\\n')\n",
    "    #         t21.append('\\n')\n",
    "            t2.clear()\n",
    "        elif v=='b)' or v=='B)':\n",
    "            x=u1.index(v)\n",
    "            try:\n",
    "                x1=u1.index('c)')\n",
    "            except ValueError:\n",
    "                x1=u1.index('C)')\n",
    "            t2.append('b.')\n",
    "            #t2.append(' '.join((u1[x+1:x1][:-1])))\n",
    "            t2.append(' '.join((u1[x+1:x1])))\n",
    "            t21.append(' '.join(t2).replace(',','')+'\\n')\n",
    "    #         t21.append('\\n')\n",
    "            t2.clear()\n",
    "        elif v=='c)' or v=='C)':\n",
    "            x=u1.index(v)\n",
    "            try:\n",
    "                x1=u1.index('d)')\n",
    "            except ValueError:\n",
    "                x1=u1.index('D)')\n",
    "            t2.append('c.')\n",
    "            t2.append(' '.join((u1[x+1:x1])))\n",
    "            t21.append(' '.join(t2).replace(',','')+'\\n')\n",
    "    #         t21.append('\\n')\n",
    "            t2.clear()\n",
    "        elif v=='d)' or v=='D)':\n",
    "            x=u1.index(v)\n",
    "    #         x1=u1.index('d)')\n",
    "            t2.append('d.')\n",
    "            t2.append(' '.join((u1[x+1:-3])))\n",
    "            t21.append(' '.join(t2).replace('\",',''))\n",
    "    #         t21.append('\\n')\n",
    "            t2.clear()\n",
    "    choice.append(t21)"
   ]
  },
  {
   "cell_type": "code",
   "execution_count": 10,
   "id": "d8d7b328",
   "metadata": {},
   "outputs": [
    {
     "name": "stdout",
     "output_type": "stream",
     "text": [
      "Q1:\"What was Tipu Sultan known for?\"\n",
      "\n",
      " a. His strength\n",
      " b. His strategic abilities\n",
      " c. His bravery\n",
      " d. His military tactics\n",
      "\u001b[1m\u001b[30mCorrect Options:'(b)'&'(d)'\u001b[0m\n",
      "\n",
      "\n",
      "Q2:\"What led to the establishment of plantations in various colonies?\"\n",
      "\n",
      " a. High demand for crops\n",
      " b. Revenue from the countryside\n",
      " c. Availability of labor\n",
      " d. All of the above\n",
      "\u001b[1m\u001b[30mCorrect Options:'(a)'&'(c)'\u001b[0m\n",
      "\n",
      "\n",
      "Q3:\"The two main systems of indigo cultivation were nij and _____?\"\n",
      "\n",
      " a. ryoti\n",
      " b. zamindari\n",
      " c. mahalwari\n",
      " d. ryotwari\n",
      "\u001b[1m\u001b[30mCorrect Options:'(a)'&'(d)'\u001b[0m\n",
      "\n",
      "\n",
      "Q4:\"Who were Haidar Ali and Tipu Sultan?\"\n",
      "\n",
      " a. Freedom fighters\n",
      " b. Scientists\n",
      " c. Politicians\n",
      " d. Artists\n",
      "\u001b[1m\u001b[30mCorrect Options:'(a)'&'(c)'\u001b[0m\n",
      "\n",
      "\n"
     ]
    }
   ],
   "source": [
    "# !pip install fontstyle\n",
    "import fontstyle\n",
    "\n",
    "final=[]\n",
    "\n",
    "for ans in answer:\n",
    "    # format text\n",
    "    text = fontstyle.apply(''.join(ans), 'bold/black')\n",
    " \n",
    "    # display text\n",
    "    final.append(text)\n",
    "\n",
    "for w in range(len(ques)):\n",
    "    print(''.join(ques[w]))\n",
    "    print(' '.join(choice[w]))\n",
    "    print(final[w])\n",
    "    print('\\n')"
   ]
  },
  {
   "cell_type": "markdown",
   "id": "61202bc7",
   "metadata": {},
   "source": [
    "## We have got amazing results!!!"
   ]
  },
  {
   "cell_type": "code",
   "execution_count": null,
   "id": "3c6daaa5",
   "metadata": {},
   "outputs": [],
   "source": []
  }
 ],
 "metadata": {
  "kernelspec": {
   "display_name": "Python 3 (ipykernel)",
   "language": "python",
   "name": "python3"
  },
  "language_info": {
   "codemirror_mode": {
    "name": "ipython",
    "version": 3
   },
   "file_extension": ".py",
   "mimetype": "text/x-python",
   "name": "python",
   "nbconvert_exporter": "python",
   "pygments_lexer": "ipython3",
   "version": "3.9.12"
  }
 },
 "nbformat": 4,
 "nbformat_minor": 5
}
